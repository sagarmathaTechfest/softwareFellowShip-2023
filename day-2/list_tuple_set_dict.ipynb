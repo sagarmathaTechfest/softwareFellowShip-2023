{
  "cells": [
    {
      "cell_type": "markdown",
      "metadata": {
        "id": "fX9h78XJW8YM"
      },
      "source": [
        "https://www.w3schools.com/python/python_lists.asp\n",
        "\n",
        "There are four collection data types in the Python programming language:\n",
        "\n",
        "1. List\n",
        "2. Tuple\n",
        "3. Set\n",
        "4. Dictionary"
      ]
    },
    {
      "cell_type": "markdown",
      "metadata": {
        "id": "chjNrOsyRJ8D"
      },
      "source": [
        "### 1. List\n",
        "- It's a built-in data types in python\n",
        "- A list is an ordered collection of items (i.e.If you add new items to a list, the new items will be placed at the end of the list.)\n",
        "- List can contain duplicate elements.\n",
        "- Lists are mutable, meaning you can modify their content.\n",
        "- Lists are created using square brackets:\n"
      ]
    },
    {
      "cell_type": "code",
      "execution_count": 7,
      "metadata": {
        "id": "OipQcoU8Oxux"
      },
      "outputs": [],
      "source": [
        "# 1. Creating Lists\n",
        "\n",
        "# Creating an empty list\n",
        "empty_list = []\n",
        "\n",
        "# Creating a list with elements\n",
        "fruits = [\"apple\", \"banana\", \"cherry\", \"date\"]"
      ]
    },
    {
      "cell_type": "code",
      "execution_count": 8,
      "metadata": {
        "colab": {
          "base_uri": "https://localhost:8080/"
        },
        "id": "2KuSII4xSkfA",
        "outputId": "e3e36315-c934-47e3-cfe2-4b48afacd8a5"
      },
      "outputs": [
        {
          "name": "stdout",
          "output_type": "stream",
          "text": [
            "apple\n",
            "date\n"
          ]
        }
      ],
      "source": [
        "# 2. Accessing Elements\n",
        "# Lists are indexed, and you can access any element by its index.\n",
        "\n",
        "print(fruits[0])  # Output: apple\n",
        "print(fruits[-1])  # Output: date (negative indexing starts from the end)"
      ]
    },
    {
      "cell_type": "code",
      "execution_count": 9,
      "metadata": {
        "colab": {
          "base_uri": "https://localhost:8080/"
        },
        "id": "UVi-umr-SnqD",
        "outputId": "d87724fe-389b-4f07-ccb5-70c4a8cca6c5"
      },
      "outputs": [
        {
          "name": "stdout",
          "output_type": "stream",
          "text": [
            "['apple', 'blueberry', 'cherry', 'date']\n"
          ]
        }
      ],
      "source": [
        "# 3. Modifying Lists\n",
        "# Being mutable, you can modify lists after their creation.\n",
        "\n",
        "fruits[1] = \"blueberry\"\n",
        "print(fruits)  # Output: ['apple', 'blueberry', 'cherry', 'date']\n"
      ]
    },
    {
      "cell_type": "markdown",
      "metadata": {
        "id": "kTp_2o3BTblj"
      },
      "source": [
        "4. List Methods\n",
        "\n",
        "  Some commonly used list methods include:\n",
        "\n",
        "- append(): Adds an element at the end of the list.\n",
        "- insert(): Adds an element at a specified position.\n",
        "- remove(): Removes the first item with the specified value.\n",
        "- pop(): Removes the element at the specified position.\n",
        "- sort(): Sorts the list."
      ]
    },
    {
      "cell_type": "code",
      "execution_count": 10,
      "metadata": {
        "colab": {
          "base_uri": "https://localhost:8080/"
        },
        "id": "57mdJgS1S6SV",
        "outputId": "2974017a-b071-47be-9de7-37677a80b682"
      },
      "outputs": [
        {
          "name": "stdout",
          "output_type": "stream",
          "text": [
            "['apple', 'blueberry', 'elderberry', 'fig']\n"
          ]
        }
      ],
      "source": [
        "# Append 'elderberry' to the end of the 'fruits' list\n",
        "fruits.append(\"elderberry\")\n",
        "\n",
        "# Insert 'fig' at the third position (index 2) in the 'fruits' list\n",
        "fruits.insert(2, \"fig\")\n",
        "\n",
        "# Remove the first occurrence of 'date' from the 'fruits' list\n",
        "fruits.remove(\"date\")\n",
        "\n",
        "# Remove the fruit at the fourth position (index 3) from the 'fruits' list\n",
        "fruits.pop(3)\n",
        "\n",
        "# Sort the 'fruits' list in ascending order\n",
        "fruits.sort()\n",
        "\n",
        "# Print the modified 'fruits' list\n",
        "print(fruits)  # Expected Output: ['apple', 'blueberry', 'elderberry', 'fig']\n",
        "\n"
      ]
    },
    {
      "cell_type": "markdown",
      "metadata": {
        "id": "Gey9ZxRrTzX2"
      },
      "source": [
        "### **List Comprehension**\n",
        "List comprehension is a concise way to create lists in Python. It can make your code more readable and often more efficient. The primary reasons for using list comprehension are:\n",
        "\n",
        "- Conciseness: List comprehensions can reduce the number of lines in your code, making it more readable.\n",
        "- Performance: In many cases, using list comprehension can be faster than using loops, especially for simple operations.\n",
        "- Clarity: When used appropriately, list comprehensions can make the intention of the code clearer."
      ]
    },
    {
      "cell_type": "code",
      "execution_count": 5,
      "metadata": {
        "colab": {
          "base_uri": "https://localhost:8080/"
        },
        "id": "-hPN_NdQToRA",
        "outputId": "8e7a26d9-12be-49c2-d063-ea23015bfdaa"
      },
      "outputs": [
        {
          "name": "stdout",
          "output_type": "stream",
          "text": [
            "Using a loop:.....\n",
            "[1, 4, 9, 16, 25]\n",
            "Using list comprehension......\n",
            "[1, 4, 9, 16, 25]\n"
          ]
        }
      ],
      "source": [
        "# Comparison:\n",
        "\n",
        "# Let's look at a simple example to create a list of squares using both a loop and list comprehension.\n",
        "\n",
        "#Using a loop\n",
        "\n",
        "numbers = [1, 2, 3, 4, 5]\n",
        "squares = []\n",
        "for n in numbers:\n",
        "    squares.append(n**2)\n",
        "print(\"Using a loop:.....\")\n",
        "print(squares)\n",
        "\n",
        "# Using List comprehension\n",
        "squares = [n**2 for n in numbers]\n",
        "print(\"Using list comprehension......\")\n",
        "print(squares)\n"
      ]
    },
    {
      "cell_type": "markdown",
      "metadata": {
        "id": "ktz4e_ZmYAWL"
      },
      "source": [
        "### 2. Tuple:\n",
        "- Tuples are similar to lists in Python, but they are immutable\n",
        "- Tuples are written with round brackets."
      ]
    },
    {
      "cell_type": "code",
      "execution_count": 11,
      "metadata": {
        "colab": {
          "base_uri": "https://localhost:8080/"
        },
        "id": "sFJjDAe5X-7T",
        "outputId": "e5b5fe27-f9c2-4e9c-92e7-0df656a6c78f"
      },
      "outputs": [
        {
          "name": "stdout",
          "output_type": "stream",
          "text": [
            "apple\n",
            "date\n"
          ]
        }
      ],
      "source": [
        "# 1. Creating a Tuple\n",
        "\n",
        "# Creating an empty tuple\n",
        "empty_tuple = ()\n",
        "\n",
        "# Creating a tuple with elements\n",
        "fruits = (\"apple\", \"banana\", \"cherry\", \"date\")\n",
        "\n",
        "# 2. Accessing the elements of tuple\n",
        "\n",
        "# Access the first element of the tuple\n",
        "print(fruits[0])  # Output: apple\n",
        "\n",
        "# Access the last element using negative indexing\n",
        "print(fruits[-1])  # Output: date\n",
        "\n"
      ]
    },
    {
      "cell_type": "code",
      "execution_count": 12,
      "metadata": {
        "colab": {
          "base_uri": "https://localhost:8080/"
        },
        "id": "ysjL9OnuX-34",
        "outputId": "e93eee10-2349-4dbc-a587-c375dd32ffda"
      },
      "outputs": [
        {
          "name": "stdout",
          "output_type": "stream",
          "text": [
            "('apple', 'banana', 'cherry', 'date', 'elderberry', 'fig')\n",
            "('apple', 'banana', 'cherry', 'date', 'apple', 'banana', 'cherry', 'date')\n"
          ]
        }
      ],
      "source": [
        "# Immutability of Tuples\n",
        "\n",
        "# This will raise an error since tuples are immutable\n",
        "# fruits[1] = \"blueberry\"\n",
        "\n",
        "# Concatenate two tuples\n",
        "combined = fruits + (\"elderberry\", \"fig\")\n",
        "print(combined)  # Output: ('apple', 'banana', 'cherry', 'date', 'elderberry', 'fig')\n",
        "\n",
        "# Repeat a tuple\n",
        "repeated = fruits * 2\n",
        "print(repeated)  # Output: ('apple', 'banana', 'cherry', 'date', 'apple', 'banana', 'cherry', 'date')\n"
      ]
    },
    {
      "cell_type": "markdown",
      "metadata": {
        "id": "vzyCiiZ6a69B"
      },
      "source": [
        "#### Tuple Methods\n",
        "Since tuples are immutable, they don't have methods like append() or remove(). However, there are two useful tuple methods:\n",
        "\n",
        "- count(): Returns the number of times a specified value occurs in a tuple.\n",
        "\n",
        "- index(): Searches the tuple for a specified value and returns the position of where it was found."
      ]
    },
    {
      "cell_type": "code",
      "execution_count": 13,
      "metadata": {
        "colab": {
          "base_uri": "https://localhost:8080/"
        },
        "id": "TRKIdEGvX-zO",
        "outputId": "eb70376d-ce9f-4e7d-b227-3198c09ba4c9"
      },
      "outputs": [
        {
          "name": "stdout",
          "output_type": "stream",
          "text": [
            "1\n",
            "2\n"
          ]
        }
      ],
      "source": [
        "# Count occurrences of 'apple' in the tuple\n",
        "print(fruits.count(\"apple\"))  # Output: 1\n",
        "\n",
        "# Find the index of 'cherry' in the tuple\n",
        "print(fruits.index(\"cherry\"))  # Output: 2\n"
      ]
    },
    {
      "cell_type": "code",
      "execution_count": 14,
      "metadata": {
        "colab": {
          "base_uri": "https://localhost:8080/"
        },
        "id": "sj_J__8BX-xE",
        "outputId": "00680f96-3e45-4d43-b440-69ab77d9ca4a"
      },
      "outputs": [
        {
          "name": "stdout",
          "output_type": "stream",
          "text": [
            "apple\n",
            "banana\n"
          ]
        }
      ],
      "source": [
        "# Unpacking Tuples\n",
        "# You can \"unpack\" a tuple into multiple variables.\n",
        "\n",
        "fruit1, fruit2, fruit3, fruit4 = fruits\n",
        "print(fruit1)  # Output: apple\n",
        "print(fruit2)  # Output: banana\n"
      ]
    },
    {
      "cell_type": "code",
      "execution_count": 15,
      "metadata": {
        "colab": {
          "base_uri": "https://localhost:8080/"
        },
        "id": "guyRVxHfX-uh",
        "outputId": "6594b573-1f16-44bb-a2cd-ef66891e8cb9"
      },
      "outputs": [
        {
          "name": "stdout",
          "output_type": "stream",
          "text": [
            "6\n"
          ]
        }
      ],
      "source": [
        "# Nested Tuples\n",
        "\n",
        "nested_tuple = ((1, 2, 3), (4, 5, 6), (7, 8, 9))\n",
        "print(nested_tuple[1][2])  # Output: 6\n"
      ]
    },
    {
      "cell_type": "markdown",
      "metadata": {
        "id": "DWa-JLRcdpxJ"
      },
      "source": [
        "### 3. SETS\n",
        "\n",
        "- A set in Python is an unordered collection of unique items.\n",
        "- Sets are similar to lists and tuples but cannot contain duplicate values.\n",
        "- Sets cannot be referred to by index or key.\n",
        "- They are particularly useful for membership testing, eliminating duplicate entries, and performing mathematical set operations like union, intersection, and difference."
      ]
    },
    {
      "cell_type": "code",
      "execution_count": 16,
      "metadata": {
        "colab": {
          "base_uri": "https://localhost:8080/"
        },
        "id": "3OTtS9CbX-sN",
        "outputId": "19818dfe-2638-4219-b594-845695faa764"
      },
      "outputs": [
        {
          "name": "stdout",
          "output_type": "stream",
          "text": [
            "{'elderberry', 'banana', 'date', 'cherry', 'apple'}\n",
            "{'elderberry', 'banana', 'cherry', 'apple'}\n",
            "{'elderberry', 'banana', 'cherry', 'apple'}\n"
          ]
        }
      ],
      "source": [
        "# 1. Creating Sets\n",
        "\n",
        "# Creating an empty set\n",
        "empty_set = set()\n",
        "\n",
        "# Creating a set with elements\n",
        "fruits = {\"apple\", \"banana\", \"cherry\", \"date\"}\n",
        "\n",
        "# Note: {} by itself will create an empty dictionary, not a set. Hence, set() is used to create an empty set.\n",
        "\n",
        "\n",
        "\n",
        "# 2. Adding and Removing Elements\n",
        "\n",
        "# Adding an element\n",
        "fruits.add(\"elderberry\")\n",
        "print(fruits)  # Output: {'apple', 'banana', 'cherry', 'date', 'elderberry'}\n",
        "\n",
        "# Removing an element\n",
        "fruits.remove(\"date\")\n",
        "print(fruits)  # Output: {'apple', 'banana', 'cherry', 'elderberry'}\n",
        "\n",
        "# Using discard (does not raise an error if the element is not found)\n",
        "fruits.discard(\"fig\")\n",
        "print(fruits)  # Output: {'apple', 'banana', 'cherry', 'elderberry'}\n",
        "\n"
      ]
    },
    {
      "cell_type": "code",
      "execution_count": 19,
      "metadata": {
        "colab": {
          "base_uri": "https://localhost:8080/"
        },
        "id": "1N5WX7M7X-pr",
        "outputId": "935f8ae7-20a2-4299-ba32-8f3d7b8863ad"
      },
      "outputs": [
        {
          "name": "stdout",
          "output_type": "stream",
          "text": [
            "{1, 2, 3, 4, 5, 6}\n",
            "{3, 4}\n",
            "{1, 2}\n",
            "{1, 2, 5, 6}\n"
          ]
        }
      ],
      "source": [
        "#Ref::  https://www.w3schools.com/python/python_sets_methods.asp\n",
        "\n",
        "# 3. Set Operations\n",
        "# Sets support various mathematical operations.\n",
        "\n",
        "# Define two sets A and B\n",
        "A = {1, 2, 3, 4}\n",
        "B = {3, 4, 5, 6}\n",
        "\n",
        "# Union: Combine the elements of both sets, removing any duplicates\n",
        "# The '|' operator is used for union\n",
        "print(A | B)  # Output: {1, 2, 3, 4, 5, 6}\n",
        "\n",
        "# Intersection: Find elements that are common to both sets\n",
        "# The '&' operator is used for intersection\n",
        "print(A & B)  # Output: {3, 4}\n",
        "\n",
        "# Difference: Get elements that are in set A but not in set B\n",
        "# The '-' operator is used for difference\n",
        "print(A - B)  # Output: {1, 2}\n",
        "\n",
        "# Symmetric Difference: Get elements that are in one of the sets, but not in both\n",
        "# The '^' operator is used for symmetric difference\n",
        "print(A ^ B)  # Output: {1, 2, 5, 6}\n"
      ]
    },
    {
      "cell_type": "code",
      "execution_count": 18,
      "metadata": {
        "colab": {
          "base_uri": "https://localhost:8080/"
        },
        "id": "dbPlcJIUX-nY",
        "outputId": "00a943ce-c987-41df-df41-6eda47451bf9"
      },
      "outputs": [
        {
          "name": "stdout",
          "output_type": "stream",
          "text": [
            "True\n",
            "False\n",
            "[1, 2, 3, 4, 5]\n"
          ]
        }
      ],
      "source": [
        "# 4. Checking Membership\n",
        "# You can quickly check if an item exists in a set.\n",
        "\n",
        "print(\"apple\" in fruits)  # Output: True\n",
        "print(\"fig\" in fruits)    # Output: False\n",
        "\n",
        "\n",
        "# 5. Removing Duplicates from a List\n",
        "# One of the common uses of sets is to eliminate duplicate values from a list.\n",
        "\n",
        "numbers = [1, 2, 2, 3, 4, 4, 5]\n",
        "unique_numbers = list(set(numbers))\n",
        "print(unique_numbers)  # Output: [1, 2, 3, 4, 5]\n"
      ]
    },
    {
      "cell_type": "markdown",
      "metadata": {
        "id": "DF0cSAlhhOXu"
      },
      "source": [
        "### 4. Dictionary\n",
        "- unordered collection of key-value pairs.\n",
        "- Dictionaries are used to store data values in key:value pairs.\n",
        "- Dictionary items are ordered, mutable, and does not allow duplicates.\n",
        "\n",
        "- Duplicates Not Allowed:: Dictionaries cannot have two items with the same key:"
      ]
    },
    {
      "cell_type": "code",
      "execution_count": 21,
      "metadata": {
        "colab": {
          "base_uri": "https://localhost:8080/"
        },
        "id": "YeTrIjQFgay0",
        "outputId": "cdd28ed5-260f-41be-f651-408f4c3db674"
      },
      "outputs": [
        {
          "name": "stdout",
          "output_type": "stream",
          "text": [
            "John\n",
            "None\n"
          ]
        }
      ],
      "source": [
        "# 1. Creating Dictionaries\n",
        "\n",
        "# Creating an empty dictionary\n",
        "empty_dict = {}\n",
        "\n",
        "# Creating a dictionary with key-value pairs\n",
        "person = {\n",
        "    \"name\": \"John\",\n",
        "    \"age\": 30,\n",
        "    \"city\": \"New York\"\n",
        "}\n",
        "\n",
        "# 2. Accessing Values\n",
        "\n",
        "# Accessing a value using its key\n",
        "print(person[\"name\"])  # Output: John\n",
        "\n",
        "# Using the get() method to access a value (returns None if key not found)\n",
        "print(person.get(\"occupation\"))  # Output: None\n"
      ]
    },
    {
      "cell_type": "code",
      "execution_count": 22,
      "metadata": {
        "colab": {
          "base_uri": "https://localhost:8080/"
        },
        "id": "7yFD3NKDgavd",
        "outputId": "963222c3-a606-4cc0-8562-17afcbf05c9a"
      },
      "outputs": [
        {
          "name": "stdout",
          "output_type": "stream",
          "text": [
            "{'name': 'John', 'age': 30, 'city': 'New York', 'occupation': 'Engineer'}\n",
            "{'name': 'John', 'age': 31, 'city': 'New York', 'occupation': 'Engineer'}\n",
            "{'name': 'John', 'age': 31, 'occupation': 'Engineer'}\n"
          ]
        }
      ],
      "source": [
        "# 3. Modifying Dictionaries\n",
        "\n",
        "# Adding a new key-value pair\n",
        "person[\"occupation\"] = \"Engineer\"\n",
        "print(person)  # Output: {'name': 'John', 'age': 30, 'city': 'New York', 'occupation': 'Engineer'}\n",
        "\n",
        "# Modifying an existing value using its key\n",
        "person[\"age\"] = 31\n",
        "print(person)  # Output: {'name': 'John', 'age': 31, 'city': 'New York', 'occupation': 'Engineer'}\n",
        "\n",
        "# Removing a key-value pair using the 'del' keyword\n",
        "del person[\"city\"]\n",
        "print(person)  # Output: {'name': 'John', 'age': 31, 'occupation': 'Engineer'}\n"
      ]
    },
    {
      "cell_type": "code",
      "execution_count": 23,
      "metadata": {
        "colab": {
          "base_uri": "https://localhost:8080/"
        },
        "id": "X8ZfJ2LjgatI",
        "outputId": "b75aa5be-8538-41b8-f855-527dbd1cd3d8"
      },
      "outputs": [
        {
          "name": "stdout",
          "output_type": "stream",
          "text": [
            "['name', 'age', 'occupation']\n",
            "['John', 31, 'Engineer']\n",
            "[('name', 'John'), ('age', 31), ('occupation', 'Engineer')]\n"
          ]
        }
      ],
      "source": [
        "# 4. Dictionary Methods\n",
        "\n",
        "# Getting all keys as a list\n",
        "keys = list(person.keys())\n",
        "print(keys)  # Output: ['name', 'age', 'occupation']\n",
        "\n",
        "# Getting all values as a list\n",
        "values = list(person.values())\n",
        "print(values)  # Output: ['John', 31, 'Engineer']\n",
        "\n",
        "# Getting all key-value pairs as a list of tuples\n",
        "items = list(person.items())\n",
        "print(items)  # Output: [('name', 'John'), ('age', 31), ('occupation', 'Engineer')]\n"
      ]
    },
    {
      "cell_type": "code",
      "execution_count": 24,
      "metadata": {
        "colab": {
          "base_uri": "https://localhost:8080/"
        },
        "id": "g7OJDu1dX-kv",
        "outputId": "54a078fa-e31e-40df-ebcc-11da7eed8054"
      },
      "outputs": [
        {
          "name": "stdout",
          "output_type": "stream",
          "text": [
            "name John\n",
            "age 31\n",
            "occupation Engineer\n",
            "name John\n",
            "age 31\n",
            "occupation Engineer\n",
            "{1: 1, 2: 4, 3: 9, 4: 16, 5: 25}\n",
            "True\n",
            "False\n"
          ]
        }
      ],
      "source": [
        "# 5. Iterating Through a Dictionary\n",
        "\n",
        "# Iterating through keys\n",
        "for key in person:\n",
        "    print(key, person[key])\n",
        "\n",
        "# Iterating through key-value pairs\n",
        "for key, value in person.items():\n",
        "    print(key, value)\n",
        "\n",
        "# 6. Dictionary Comprehension\n",
        "\n",
        "# Create a dictionary with numbers as keys and their squares as values\n",
        "squares = {x: x**2 for x in (1, 2, 3, 4, 5)}\n",
        "print(squares)  # Output: {1: 1, 2: 4, 3: 9, 4: 16, 5: 25}\n",
        "\n",
        "# 7. Checking for Keys\n",
        "\n",
        "# Check if 'name' is a key in the dictionary\n",
        "print(\"name\" in person)  # Output: True\n",
        "\n",
        "# Check if 'address' is a key in the dictionary\n",
        "print(\"address\" in person)  # Output: False\n",
        "\n"
      ]
    },
    {
      "cell_type": "code",
      "execution_count": null,
      "metadata": {
        "id": "0crxvKgpX-iG"
      },
      "outputs": [],
      "source": []
    },
    {
      "cell_type": "markdown",
      "metadata": {
        "id": "KdSevGjLUpcJ"
      },
      "source": [
        "### **Practise Problem Set: Try it Yourself**\n",
        "**Reverse a List:**\n",
        "- Write a function that takes a list as its argument and returns the list in reversed order.\n",
        "\n",
        "**Find the Second Largest Number:**\n",
        "- Given a list of numbers, find the second largest number in the list.\n",
        "\n",
        "**Flatten a Nested List:**\n",
        "- If you have a list that contains other lists (like nested_list above), write a function to flatten it.\n",
        "\n",
        "**Filter Even Numbers:**\n",
        "- Using list comprehension, create a new list that contains only the even numbers from a given list.\n",
        "\n",
        "**List Overlap:**\n",
        "- Given two lists, return a list that contains only the elements that are common between the lists (without duplicates). Make sure your program works on two lists of different sizes."
      ]
    },
    {
      "cell_type": "markdown",
      "metadata": {
        "id": "ZLnPL3B8c1eQ"
      },
      "source": [
        "##### TUPLES\n",
        "\n",
        "**Problem 1: Merge Sorted Tuples**\n",
        "\n",
        "*Description:*\n",
        "- Given two sorted tuples, write a function that merges them into a single, sorted tuple.\n",
        "\n",
        "**Problem 2: Count Occurrences in Tuple**\n",
        "\n",
        "*Description:*\n",
        "- Write a function that takes a tuple and a target element as its arguments. The function should return the number of occurrences of the target element in the tuple without using the built-in count method."
      ]
    },
    {
      "cell_type": "code",
      "execution_count": null,
      "metadata": {
        "id": "Be-AT2kdUi9J"
      },
      "outputs": [],
      "source": []
    }
  ],
  "metadata": {
    "colab": {
      "provenance": []
    },
    "kernelspec": {
      "display_name": "Python 3",
      "name": "python3"
    },
    "language_info": {
      "name": "python"
    }
  },
  "nbformat": 4,
  "nbformat_minor": 0
}

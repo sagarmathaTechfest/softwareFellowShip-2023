{
 "cells": [
  {
   "cell_type": "markdown",
   "metadata": {},
   "source": [
    "### Classes and Objects"
   ]
  },
  {
   "cell_type": "code",
   "execution_count": 46,
   "metadata": {},
   "outputs": [],
   "source": [
    "## DEFINING THE CLASS\n",
    "\n",
    "class Dog:\n",
    "\n",
    "    def __init__(self, name= \"unknown\", breed=\"unknown\"):\n",
    "        # The \"__init__\" method is a special method called when an object is created from the class.\n",
    "        # doubleunderscore (__) are used for special methods and attributes\n",
    "        # __init__()--> it is known as the construtor method\n",
    "        # this is used to initialize properties of an object when it is created\n",
    "        self.name = name\n",
    "        self.breed = breed\n",
    "\n",
    "    # Dunder methods are special methods in Python.\n",
    "    # They allow you to define how objects of a class behave in specific situations.\n",
    "\n",
    "    # def __str__(self):\n",
    "    #     return f\"{self.name} is a {self.breed} dog\"\n",
    "\n",
    "    # In this example, the __str__ dunder method defines how\n",
    "    # to represent a Dog object as a string when it is printed.\n",
    "\n",
    "# create an instance of a class\n",
    "my_dog= Dog(\"tommy\", \"Golden Retriever\")\n",
    "\n"
   ]
  },
  {
   "cell_type": "code",
   "execution_count": 47,
   "metadata": {},
   "outputs": [
    {
     "name": "stdout",
     "output_type": "stream",
     "text": [
      "<__main__.Dog object at 0x00000127789660B0>\n",
      "tommy\n",
      "Golden Retriever\n"
     ]
    }
   ],
   "source": [
    "print(my_dog)\n",
    "print(my_dog.name)\n",
    "print(my_dog.breed)"
   ]
  },
  {
   "cell_type": "code",
   "execution_count": 48,
   "metadata": {},
   "outputs": [],
   "source": [
    "dogobj2= Dog()"
   ]
  },
  {
   "cell_type": "code",
   "execution_count": 50,
   "metadata": {},
   "outputs": [],
   "source": [
    "dogobj2.breed= \"goldd\""
   ]
  },
  {
   "cell_type": "code",
   "execution_count": 51,
   "metadata": {},
   "outputs": [
    {
     "data": {
      "text/plain": [
       "'goldd'"
      ]
     },
     "execution_count": 51,
     "metadata": {},
     "output_type": "execute_result"
    }
   ],
   "source": [
    "dogobj2.breed"
   ]
  },
  {
   "cell_type": "code",
   "execution_count": 52,
   "metadata": {},
   "outputs": [
    {
     "name": "stdout",
     "output_type": "stream",
     "text": [
      "Bhau bhau\n"
     ]
    }
   ],
   "source": [
    "## DEFINING THE CLASS with METHODS\n",
    "\n",
    "class Dog:\n",
    "\n",
    "    def __init__(self, name= \"unknown\", breed=\"unknown\"):\n",
    "        # The \"__init__\" method is a special method called when an object is created from the class.\n",
    "        # doubleunderscore (__) are used for special methods and attributes\n",
    "        # __init__()--> it is known as the construtor method\n",
    "        # this is used to initialize properties of an object when it is created\n",
    "        self.name = name\n",
    "        self.breed = breed\n",
    "\n",
    "    # Dunder methods are special methods in Python.\n",
    "    # They allow you to define how objects of a class behave in specific situations.\n",
    "\n",
    "    # def __str__(self):\n",
    "    #     return f\"{self.name} is a {self.breed} dog\"\n",
    "\n",
    "    # In this example, the __str__ dunder method defines how\n",
    "    # to represent a Dog object as a string when it is printed.\n",
    "    def bark(self):\n",
    "        print(\"Bhau bhau\")\n",
    "\n",
    "\n",
    "\n",
    "# create an instance of a class\n",
    "my_dog= Dog(\"tommy\", \"Golden Retriever\")\n",
    "\n",
    "my_dog.bark()"
   ]
  },
  {
   "cell_type": "code",
   "execution_count": null,
   "metadata": {},
   "outputs": [],
   "source": []
  }
 ],
 "metadata": {
  "kernelspec": {
   "display_name": "My gpu kernel",
   "language": "python",
   "name": "gputest"
  },
  "language_info": {
   "codemirror_mode": {
    "name": "ipython",
    "version": 3
   },
   "file_extension": ".py",
   "mimetype": "text/x-python",
   "name": "python",
   "nbconvert_exporter": "python",
   "pygments_lexer": "ipython3",
   "version": "3.10.10"
  }
 },
 "nbformat": 4,
 "nbformat_minor": 2
}

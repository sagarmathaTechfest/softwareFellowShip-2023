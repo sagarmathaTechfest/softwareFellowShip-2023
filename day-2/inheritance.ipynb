{
 "cells": [
  {
   "cell_type": "markdown",
   "metadata": {},
   "source": [
    "#### Inheritance"
   ]
  },
  {
   "cell_type": "code",
   "execution_count": 9,
   "metadata": {},
   "outputs": [],
   "source": [
    "# This is base class or superclass\n",
    "class Animal:\n",
    "    def __init__(self, name):\n",
    "        self.name= name\n",
    "\n",
    "    def speak(self):\n",
    "        pass"
   ]
  },
  {
   "cell_type": "code",
   "execution_count": 10,
   "metadata": {},
   "outputs": [],
   "source": [
    "## derived class\n",
    "\n",
    "class Dog(Animal):\n",
    "    def speak(self):\n",
    "        return \"bhau bhau\"\n",
    "    \n",
    "# similarly, next derived class\n",
    "class Cat(Animal):\n",
    "    def speak(self):\n",
    "        return \"meow meow\""
   ]
  },
  {
   "cell_type": "code",
   "execution_count": 18,
   "metadata": {},
   "outputs": [
    {
     "ename": "TypeError",
     "evalue": "Animal.__init__() missing 1 required positional argument: 'name'",
     "output_type": "error",
     "traceback": [
      "\u001b[1;31m---------------------------------------------------------------------------\u001b[0m",
      "\u001b[1;31mTypeError\u001b[0m                                 Traceback (most recent call last)",
      "\u001b[1;32mc:\\Users\\AIXI\\OneDrive\\Desktop\\projects\\software-fellowship\\inheritance.ipynb Cell 4\u001b[0m line \u001b[0;36m1\n\u001b[1;32m----> <a href='vscode-notebook-cell:/c%3A/Users/AIXI/OneDrive/Desktop/projects/software-fellowship/inheritance.ipynb#W3sZmlsZQ%3D%3D?line=0'>1</a>\u001b[0m dogobj\u001b[39m=\u001b[39m Dog()\n\u001b[0;32m      <a href='vscode-notebook-cell:/c%3A/Users/AIXI/OneDrive/Desktop/projects/software-fellowship/inheritance.ipynb#W3sZmlsZQ%3D%3D?line=1'>2</a>\u001b[0m \u001b[39m## this error is occured because we have not provided any default \u001b[39;00m\n\u001b[0;32m      <a href='vscode-notebook-cell:/c%3A/Users/AIXI/OneDrive/Desktop/projects/software-fellowship/inheritance.ipynb#W3sZmlsZQ%3D%3D?line=2'>3</a>\u001b[0m \u001b[39m# value to the animal Class\u001b[39;00m\n",
      "\u001b[1;31mTypeError\u001b[0m: Animal.__init__() missing 1 required positional argument: 'name'"
     ]
    }
   ],
   "source": [
    "dogobj= Dog()\n",
    "## this error is occured because we have not provided any default \n",
    "# value to the animal Class\n"
   ]
  },
  {
   "cell_type": "code",
   "execution_count": 15,
   "metadata": {},
   "outputs": [
    {
     "data": {
      "text/plain": [
       "'meow meow'"
      ]
     },
     "execution_count": 15,
     "metadata": {},
     "output_type": "execute_result"
    }
   ],
   "source": [
    "catobj= Cat(\"kitty\")\n",
    "catobj.speak()"
   ]
  },
  {
   "cell_type": "code",
   "execution_count": 1,
   "metadata": {},
   "outputs": [
    {
     "name": "stdout",
     "output_type": "stream",
     "text": [
      "Buddy says Woof!\n",
      "Whiskers says Meow!\n"
     ]
    }
   ],
   "source": [
    "# Base class (or superclass)\n",
    "class Animal:\n",
    "    def __init__(self, name):\n",
    "        self.name = name\n",
    "\n",
    "    def speak(self):\n",
    "        pass  # Placeholder method\n",
    "\n",
    "# Derived class (or subclass) inheriting from Animal\n",
    "class Dog(Animal):\n",
    "    def speak(self):\n",
    "        return f\"{self.name} says Woof!\"\n",
    "\n",
    "# Another derived class inheriting from Animal\n",
    "class Cat(Animal):\n",
    "    def speak(self):\n",
    "        return f\"{self.name} says Meow!\"\n",
    "\n",
    "# Create instances of the derived classes\n",
    "dog = Dog(\"Buddy\")\n",
    "cat = Cat(\"Whiskers\")\n",
    "\n",
    "# Calling the speak method for each object\n",
    "print(dog.speak())  # Output: Buddy says Woof!\n",
    "print(cat.speak())  # Output: Whiskers says Meow!\n"
   ]
  },
  {
   "cell_type": "code",
   "execution_count": null,
   "metadata": {},
   "outputs": [],
   "source": []
  }
 ],
 "metadata": {
  "kernelspec": {
   "display_name": "My gpu kernel",
   "language": "python",
   "name": "gputest"
  },
  "language_info": {
   "codemirror_mode": {
    "name": "ipython",
    "version": 3
   },
   "file_extension": ".py",
   "mimetype": "text/x-python",
   "name": "python",
   "nbconvert_exporter": "python",
   "pygments_lexer": "ipython3",
   "version": "3.10.10"
  }
 },
 "nbformat": 4,
 "nbformat_minor": 2
}

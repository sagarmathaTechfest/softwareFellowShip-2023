{
 "cells": [
  {
   "cell_type": "code",
   "execution_count": 2,
   "metadata": {},
   "outputs": [],
   "source": [
    "## Syntax\n",
    "\n",
    "def function_name(parameters):\n",
    "    # Function code here......\n",
    "    return result\n"
   ]
  },
  {
   "cell_type": "code",
   "execution_count": 3,
   "metadata": {},
   "outputs": [
    {
     "name": "stdout",
     "output_type": "stream",
     "text": [
      "Hello, Alice!\n"
     ]
    }
   ],
   "source": [
    "##Function Parameters\n",
    "\n",
    "def greet(name):\n",
    "    # {name} is a placeholder that will be replaced with the value of the name variable at runtime.\n",
    "    return f\"Hello, {name}!\"\n",
    "\n",
    "message = greet(\"Alice\")\n",
    "print(message)  # Output: Hello, Alice!\n"
   ]
  },
  {
   "cell_type": "code",
   "execution_count": 6,
   "metadata": {},
   "outputs": [
    {
     "data": {
      "text/plain": [
       "'Hello stranger, How are you doing!!'"
      ]
     },
     "execution_count": 6,
     "metadata": {},
     "output_type": "execute_result"
    }
   ],
   "source": [
    "## You can pass a default argument in the function parameter\n",
    "\n",
    "def greet(name=\"Hello stranger\"):\n",
    "    return f\"{name}, How are you doing!!\"\n",
    "\n",
    "greet()"
   ]
  },
  {
   "cell_type": "code",
   "execution_count": 7,
   "metadata": {},
   "outputs": [
    {
     "name": "stdout",
     "output_type": "stream",
     "text": [
      "7\n"
     ]
    }
   ],
   "source": [
    "## A function can return a value using the return statement. It can return one or more values.\n",
    "\n",
    "def add(x, y):\n",
    "    return x + y\n",
    "\n",
    "result = add(3, 4)\n",
    "print(result)  # Output: 7\n"
   ]
  },
  {
   "cell_type": "markdown",
   "metadata": {},
   "source": [
    "### Parameters:\n",
    "\n",
    "- Parameters are placeholders for values that a function expects to receive.\n",
    "\n",
    "\n",
    "- Parameters are used to specify what type of input a function requires."
   ]
  },
  {
   "cell_type": "markdown",
   "metadata": {},
   "source": [
    "### Arguments:\n",
    "\n",
    "- Arguments are the actual values or expressions that you provide when calling a function.\n",
    "\n",
    "- They correspond to parameters and are passed to the function as input.\n",
    "\n",
    "- Arguments fulfill the expectations set by the function's parameters."
   ]
  },
  {
   "cell_type": "code",
   "execution_count": 8,
   "metadata": {},
   "outputs": [
    {
     "name": "stdout",
     "output_type": "stream",
     "text": [
      "Hello, John Doe!\n"
     ]
    }
   ],
   "source": [
    "def greet(first_name, last_name):               ### here first_name and last_name is a parameter\n",
    "    return f\"Hello, {first_name} {last_name}!\"\n",
    "\n",
    "message = greet(last_name=\"Doe\", first_name=\"John\")\n",
    "print(message) "
   ]
  },
  {
   "cell_type": "markdown",
   "metadata": {},
   "source": [
    " ### Scope\n",
    " - Scope refers to the region of a program where a variable is accessible or can be referenced.\n",
    "\n",
    "##### Local Scope:\n",
    "- They are only accessible within the function, and \n",
    "- They have a limited lifetime that corresponds to the function's execution.\n",
    "\n",
    "##### Global Scope:\n",
    "- Variables defined outside of any function are considered global.\n",
    "- They are accessible from any part of the code, both inside and outside functions"
   ]
  },
  {
   "cell_type": "code",
   "execution_count": 9,
   "metadata": {},
   "outputs": [],
   "source": [
    "# Global variable\n",
    "global_variable = 42\n",
    "\n",
    "# Function with local variable\n",
    "def some_function():\n",
    "    local_variable = 10\n",
    "    print(\"Inside some_function:\")\n",
    "    print(\"Local variable:\", local_variable)  # Accesses the local variable\n",
    "    print(\"Global variable:\", global_variable)  # Accesses the global variable\n"
   ]
  },
  {
   "cell_type": "code",
   "execution_count": 10,
   "metadata": {},
   "outputs": [
    {
     "name": "stdout",
     "output_type": "stream",
     "text": [
      "Inside some_function:\n",
      "Local variable: 10\n",
      "Global variable: 42\n"
     ]
    }
   ],
   "source": [
    "\n",
    "# Call the function\n",
    "some_function()\n"
   ]
  },
  {
   "cell_type": "code",
   "execution_count": 11,
   "metadata": {},
   "outputs": [
    {
     "name": "stdout",
     "output_type": "stream",
     "text": [
      "\n",
      "Outside some_function:\n",
      "Global variable: 42\n"
     ]
    }
   ],
   "source": [
    "# Access global variable outside the function\n",
    "print(\"\\nOutside some_function:\")\n",
    "# Attempting to access the local variable here would result in an error.\n",
    "print(\"Global variable:\", global_variable)  # Accesses the global variable\n"
   ]
  },
  {
   "cell_type": "code",
   "execution_count": 12,
   "metadata": {},
   "outputs": [
    {
     "ename": "NameError",
     "evalue": "name 'local_variable' is not defined",
     "output_type": "error",
     "traceback": [
      "\u001b[1;31m---------------------------------------------------------------------------\u001b[0m",
      "\u001b[1;31mNameError\u001b[0m                                 Traceback (most recent call last)",
      "\u001b[1;32mc:\\Users\\AIXI\\OneDrive\\Desktop\\projects\\software-fellowship\\functions.ipynb Cell 12\u001b[0m line \u001b[0;36m2\n\u001b[0;32m      <a href='vscode-notebook-cell:/c%3A/Users/AIXI/OneDrive/Desktop/projects/software-fellowship/functions.ipynb#X14sZmlsZQ%3D%3D?line=0'>1</a>\u001b[0m \u001b[39m# Attempt to access the local variable outside the function (will result in an error)\u001b[39;00m\n\u001b[1;32m----> <a href='vscode-notebook-cell:/c%3A/Users/AIXI/OneDrive/Desktop/projects/software-fellowship/functions.ipynb#X14sZmlsZQ%3D%3D?line=1'>2</a>\u001b[0m \u001b[39mprint\u001b[39m(\u001b[39m\"\u001b[39m\u001b[39mLocal variable outside:\u001b[39m\u001b[39m\"\u001b[39m, local_variable)\n",
      "\u001b[1;31mNameError\u001b[0m: name 'local_variable' is not defined"
     ]
    }
   ],
   "source": [
    "# Attempt to access the local variable outside the function (will result in an error)\n",
    "print(\"Local variable outside:\", local_variable)"
   ]
  },
  {
   "cell_type": "markdown",
   "metadata": {},
   "source": [
    "#### Lambda Function:\n",
    "\n",
    "- Lambda functions are defined using the lambda keyword, followed by a list of parameters, a colon, and an expression.\n",
    "- Typically used for short, simple operations.\n",
    "\n",
    "Syntax:\n",
    "\n",
    "lambda arguments: expression\n"
   ]
  },
  {
   "cell_type": "code",
   "execution_count": 14,
   "metadata": {},
   "outputs": [
    {
     "data": {
      "text/plain": [
       "30"
      ]
     },
     "execution_count": 14,
     "metadata": {},
     "output_type": "execute_result"
    }
   ],
   "source": [
    "# multiply two number using lambda function\n",
    "a=5\n",
    "b=6\n",
    "xx= lambda a,b:a*b\n",
    "\n",
    "xx(a,b)"
   ]
  },
  {
   "cell_type": "code",
   "execution_count": 23,
   "metadata": {},
   "outputs": [
    {
     "name": "stdout",
     "output_type": "stream",
     "text": [
      "1.6197751905438615\n",
      "This is using lambda functions\n",
      "1.6197751905438615\n"
     ]
    }
   ],
   "source": [
    "import math\n",
    "\n",
    "def trigops(degree):\n",
    "    return math.tan(degree)\n",
    "\n",
    "print(trigops(45))\n",
    "\n",
    "\n",
    "## Instead using Lambda functions\n",
    "values= lambda degree: math.tan(degree)\n",
    "\n",
    "print(\"This is using lambda functions\")\n",
    "print(values(45))"
   ]
  },
  {
   "cell_type": "code",
   "execution_count": 26,
   "metadata": {},
   "outputs": [
    {
     "data": {
      "text/plain": [
       "function"
      ]
     },
     "execution_count": 26,
     "metadata": {},
     "output_type": "execute_result"
    }
   ],
   "source": [
    "## To check maximum of two numbers\n",
    "\n",
    "maximum= lambda x, y: x if x>y else y\n",
    "type(maximum)"
   ]
  },
  {
   "cell_type": "code",
   "execution_count": 27,
   "metadata": {},
   "outputs": [
    {
     "data": {
      "text/plain": [
       "7"
      ]
     },
     "execution_count": 27,
     "metadata": {},
     "output_type": "execute_result"
    }
   ],
   "source": [
    "maximum(4,7)"
   ]
  },
  {
   "cell_type": "code",
   "execution_count": 28,
   "metadata": {},
   "outputs": [
    {
     "name": "stdout",
     "output_type": "stream",
     "text": [
      "4.0\n"
     ]
    }
   ],
   "source": [
    "# check for square root\n",
    "import math\n",
    "\n",
    "square_root = lambda x: math.sqrt(x)\n",
    "\n",
    "result = square_root(16)\n",
    "print(result)\n"
   ]
  },
  {
   "cell_type": "markdown",
   "metadata": {},
   "source": [
    "Higher-Order Functions\n",
    "- Python supports higher-order functions, which can accept other functions as arguments.\n"
   ]
  },
  {
   "cell_type": "code",
   "execution_count": 29,
   "metadata": {},
   "outputs": [
    {
     "name": "stdout",
     "output_type": "stream",
     "text": [
      "25\n"
     ]
    }
   ],
   "source": [
    "def apply(func, x):\n",
    "    return func(x)\n",
    "\n",
    "square = lambda x: x ** 2\n",
    "result = apply(square, 5)\n",
    "print(result)\n"
   ]
  },
  {
   "cell_type": "markdown",
   "metadata": {},
   "source": [
    "#### Arbitrary Arguments, *args\n",
    "\n",
    "- If you do not know how many arguments that will be passed into your function, add a * before the parameter name in the function definition.\n",
    "\n",
    "- This way the function will receive a tuple of arguments, and can access the items accordingly:"
   ]
  },
  {
   "cell_type": "code",
   "execution_count": 42,
   "metadata": {},
   "outputs": [
    {
     "name": "stdout",
     "output_type": "stream",
     "text": [
      "3\n",
      "4\n",
      "5\n",
      "6\n",
      "9\n",
      "9\n"
     ]
    }
   ],
   "source": [
    "# using *args parameter to find the maximum value in a given list.\n",
    "def maximum(*numbers):\n",
    "    max_value= numbers[0]\n",
    "    for value in numbers[1:]:\n",
    "        print(value)\n",
    "        if value> max_value:\n",
    "            max_value= value\n",
    "    return max_value\n",
    "\n",
    "\n",
    "\n",
    "print(maximum(2,3,4,5,6,9))"
   ]
  },
  {
   "cell_type": "markdown",
   "metadata": {},
   "source": [
    "#### **kwargs (Keyword Arguments):\n",
    "\n",
    "- **kwargs stands for \"unpacking\" keyword arguments and allows you to pass a variable number of keyword-value pairs to a function.\n",
    "\n",
    "- These keyword arguments are collected into a dictionary, allowing you to access them by their keys."
   ]
  },
  {
   "cell_type": "code",
   "execution_count": 43,
   "metadata": {},
   "outputs": [
    {
     "name": "stdout",
     "output_type": "stream",
     "text": [
      "Positional arguments (*args): (10, 5, 8, 15, 3)\n",
      "Keyword arguments (**kwargs): {'max_value': 100, 'min_value': 0}\n"
     ]
    }
   ],
   "source": [
    "def process_args_and_kwargs(*args, **kwargs):\n",
    "    print(\"Positional arguments (*args):\", args)\n",
    "    print(\"Keyword arguments (**kwargs):\", kwargs)\n",
    "\n",
    "# Example usage:\n",
    "numbers = [10, 5, 8, 15, 3]\n",
    "options = {\"max_value\": 100, \"min_value\": 0}\n",
    "\n",
    "process_args_and_kwargs(*numbers, **options)\n"
   ]
  },
  {
   "cell_type": "markdown",
   "metadata": {},
   "source": [
    "Problem:\n",
    "\n",
    "You are building a simple online shopping cart system. You want to create a function that calculates the total cost of items in a shopping cart.\n",
    "However, the cart can contain a variable number of items, each with a price, and there may be discounts or promotions to apply.\n",
    "\n",
    "Create a function *calculate_total_cost* that takes the following arguments:\n",
    "\n",
    "**customer_name:** A string representing the name of the customer.\n",
    "\n",
    "*items: Variable positional arguments representing the items in the cart. Each item is a tuple of the form (item_name, item_price).\n",
    "\n",
    "**promotions: Variable keyword arguments representing promotional discounts. Each promotion is a keyword argument with the format 'promotion_name=discount_percentage', where \"promotion_name\" is a string and discount_percentage is a float representing the percentage discount."
   ]
  },
  {
   "cell_type": "code",
   "execution_count": null,
   "metadata": {},
   "outputs": [],
   "source": []
  }
 ],
 "metadata": {
  "kernelspec": {
   "display_name": "My gpu kernel",
   "language": "python",
   "name": "gputest"
  },
  "language_info": {
   "codemirror_mode": {
    "name": "ipython",
    "version": 3
   },
   "file_extension": ".py",
   "mimetype": "text/x-python",
   "name": "python",
   "nbconvert_exporter": "python",
   "pygments_lexer": "ipython3",
   "version": "3.10.10"
  }
 },
 "nbformat": 4,
 "nbformat_minor": 2
}

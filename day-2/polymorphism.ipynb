{
 "cells": [
  {
   "cell_type": "markdown",
   "metadata": {},
   "source": [
    "### Polymorphism"
   ]
  },
  {
   "cell_type": "code",
   "execution_count": 7,
   "metadata": {},
   "outputs": [],
   "source": [
    "# Base class\n",
    "class Shape:\n",
    "    def area(self):\n",
    "        pass\n",
    "\n",
    "# derived class\n",
    "class Circle(Shape):\n",
    "    def __init__(self, radius):\n",
    "        self.radius= radius\n",
    "    \n",
    "    def area(self):\n",
    "        return 3.14* self.radius* self.radius\n",
    "\n",
    "\n",
    "# derived class rectangle\n",
    "class Rectangle:\n",
    "    def __init__(self, length, breadth):\n",
    "\n",
    "        self.length= length\n",
    "        self.breadth= breadth\n",
    "    \n",
    "    def area(self):\n",
    "        return self.length*self.breadth\n",
    "    "
   ]
  },
  {
   "cell_type": "code",
   "execution_count": 10,
   "metadata": {},
   "outputs": [],
   "source": [
    "# simple function to calculate the area of any shape\n",
    "def calculate_area(shape):\n",
    "    return shape.area()"
   ]
  },
  {
   "cell_type": "code",
   "execution_count": 11,
   "metadata": {},
   "outputs": [
    {
     "name": "stdout",
     "output_type": "stream",
     "text": [
      "78.5\n"
     ]
    }
   ],
   "source": [
    "circleobj= Circle(5)\n",
    "print(calculate_area(circleobj))"
   ]
  },
  {
   "cell_type": "markdown",
   "metadata": {},
   "source": [
    "Polymorphism allows different objects to be treated uniformly, making code more flexible and extensible.\n",
    "\n",
    "In this example, the calculate_area function doesn't need to know the exact type of shape it's working with, thanks to polymorphism."
   ]
  },
  {
   "cell_type": "code",
   "execution_count": null,
   "metadata": {},
   "outputs": [],
   "source": []
  }
 ],
 "metadata": {
  "kernelspec": {
   "display_name": "My gpu kernel",
   "language": "python",
   "name": "gputest"
  },
  "language_info": {
   "codemirror_mode": {
    "name": "ipython",
    "version": 3
   },
   "file_extension": ".py",
   "mimetype": "text/x-python",
   "name": "python",
   "nbconvert_exporter": "python",
   "pygments_lexer": "ipython3",
   "version": "3.10.10"
  }
 },
 "nbformat": 4,
 "nbformat_minor": 2
}
